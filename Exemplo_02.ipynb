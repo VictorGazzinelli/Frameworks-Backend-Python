{
  "nbformat": 4,
  "nbformat_minor": 0,
  "metadata": {
    "colab": {
      "name": "Exercicio 2.ipynb",
      "provenance": [],
      "collapsed_sections": [],
      "authorship_tag": "ABX9TyPSPdIUXS/4hB5VAu6gKhnq",
      "include_colab_link": true
    },
    "kernelspec": {
      "name": "python3",
      "display_name": "Python 3"
    },
    "language_info": {
      "name": "python"
    }
  },
  "cells": [
    {
      "cell_type": "markdown",
      "metadata": {
        "id": "view-in-github",
        "colab_type": "text"
      },
      "source": [
        "<a href=\"https://colab.research.google.com/github/VictorGazzinelli/Frameworks-Backend-Python/blob/main/Exemplo_02.ipynb\" target=\"_parent\"><img src=\"https://colab.research.google.com/assets/colab-badge.svg\" alt=\"Open In Colab\"/></a>"
      ]
    },
    {
      "cell_type": "markdown",
      "metadata": {
        "id": "Kk6S2ShazTZn"
      },
      "source": [
        "# Exercicio 2"
      ]
    },
    {
      "cell_type": "markdown",
      "metadata": {
        "id": "JBBeEr0Fy1Yv"
      },
      "source": [
        "## 1 - Como organizar modelos em modulos?\n",
        "\n",
        "Modelos dentro do paradigma de orientação a objetos são representados como classes correspondentes a uma ou mais tabelas de um banco de dados relacional, os POPOs (Plain Old Python Object) se assemelham aos Java Beans e aos POCOs (C#).\n",
        "\n",
        "É recomendado organizar diferentes tipos de modelos dentro de um diretório \"models\" na raíz da aplicação. Por sua vez, dentro desse diretório haverá um script \\_\\_init__.py para agregar modelos visando sua importação por outros modulos sem necessidade de explicitar o namespace/caminho completo até o modelo."
      ]
    },
    {
      "cell_type": "markdown",
      "metadata": {
        "id": "OotPRpKJzcXI"
      },
      "source": [
        "## 2 - Como criar modelos com heranças? De quais tipos?"
      ]
    },
    {
      "cell_type": "code",
      "metadata": {
        "id": "_J_ocxbsLbZV"
      },
      "source": [
        "from django.db import models\n",
        "\n",
        "class Departamento(models.Model):\n",
        "\tnome = models.CharField(max_length=50)\n",
        "\tnumero_sala = models.IntegerField(default=0)\n",
        " \n",
        "class Telefone(models.Model):\n",
        "\tddd = models.IntegerField(default=0)\n",
        "\tnumero = models.BigIntegerField(default=0)\n",
        "\ttemWhatsapp = models.BooleanField()\n",
        "\n",
        "class Pessoa(models.Model):\n",
        "\tSEXO_CHOICES = [('M','Masculino'),\n",
        "\t\t\t\t\t('F','Feminino')]\n",
        "\n",
        "\tnome = models.CharField(max_length=50)\n",
        "\tsobrenome = models.CharField(max_length=50,\n",
        "\t\t\t\t\t\t\tnull=True)\n",
        "\tidade = models.IntegerField(default=0)\n",
        "\tsexo = models.CharField(max_length=10,\n",
        "\t\t\tchoices=SEXO_CHOICES,\n",
        "\t\t\tdefault='M')\n",
        "\tdataNascimento = models.DateField(null=True)\n",
        "\tdepartamento = models.ForeignKey(Departamento,\n",
        "\t\t\t\t\t\t\ton_delete=models.SET_NULL,\n",
        "\t\t\t\t\t\t\tnull=True)\n",
        "\ttelefones = models.ManyToManyField(Telefone)\n",
        "\n",
        "\tdef __str__(self):\n",
        "\t\treturn f\"{self.nome} {self.sobrenome}\"\n",
        "\n",
        "class Cliente(Pessoa):\n",
        "    numero_compras = models.IntegerField(default=0)\n",
        "\n",
        "class Funcionario(Pessoa):\n",
        "    salario = models.DecimalField(max_digits=15, decimal_places=2)"
      ],
      "execution_count": null,
      "outputs": []
    },
    {
      "cell_type": "markdown",
      "metadata": {
        "id": "K_iqVdJJzo75"
      },
      "source": [
        "## 3 - Como criar Enumeration types e usar como choices?"
      ]
    },
    {
      "cell_type": "code",
      "metadata": {
        "id": "ZXo_SkiqGMVD"
      },
      "source": [
        "from django.db import models\n",
        "\n",
        "class Pessoa(models.Model):\n",
        "\tSEXO_CHOICES = [('M','Masculino'),\n",
        "\t\t\t\t\t('F','Feminino')]\n",
        "\n",
        "\tnome = models.CharField(max_length=50)\n",
        "\tsobrenome = models.CharField(max_length=50,\n",
        "\t\t\t\t\t\t\tnull=True)\n",
        "\tidade = models.IntegerField(default=0)\n",
        "\tsexo = models.CharField(max_length=10,\n",
        "\t\t\tchoices=SEXO_CHOICES,\n",
        "\t\t\tdefault='M')"
      ],
      "execution_count": null,
      "outputs": []
    },
    {
      "cell_type": "markdown",
      "metadata": {
        "id": "RiVmlZoY34Zc"
      },
      "source": [
        "## 4 - No projeto da aula, crie pelo menos quatro queries customizadas. Use as informações em https://docs.djangoproject.com/en/3.0/topics/db/queries/"
      ]
    },
    {
      "cell_type": "code",
      "metadata": {
        "id": "4XLLgAj1GNGN"
      },
      "source": [
        "from django.db import models\n",
        "\n",
        "class PessoaManager(models.Manager):\n",
        "\tdef obter_pessoa_id(self, idpessoa):\n",
        "\t\treturn self.get(id=idpessoa)\n",
        "\n",
        "\tdef obter_todas_pessoas(self):\n",
        "\t\treturn self.all()\n",
        "\n",
        "\tdef obter_maiores_18(self):\n",
        "\t\tpessoas = self.filter(idade__gte=18)\n",
        "\t\treturn pessoas\n",
        "\n",
        "  def obter_menores_18(self):\n",
        "\t\tpessoas = self.filter(idade__lt=18)\n",
        "\t\treturn pessoas\n",
        "\n",
        "  def obter_victor(self):\n",
        "\t\tpessoas = self.filter(nome=\"Victor\")\n",
        "\t\treturn pessoas\n",
        "\n",
        "\tdef create_pessoa(self, nome_completo):\n",
        "\t\t_nome_completo = nome_completo.split(\" \")\n",
        "\t\tpessoa = self.create(nome=_nome_completo[0],\n",
        "\t\t\t\t\t\t\t sobrenome=_nome_completo[1])\n",
        "\t\treturn pessoa"
      ],
      "execution_count": null,
      "outputs": []
    },
    {
      "cell_type": "markdown",
      "metadata": {
        "id": "g8Ad9xro409l"
      },
      "source": [
        "## 5 - O que é, para quê serve e como usar um Proxy no modelo?\n",
        "\n",
        "Ao utilizar herança de várias tabelas, uma nova tabela de banco de dados é criada vinculando a FK da classe base (no nosso exemplo, pessoa) junto aos atributos desejados a superclasse. Geralmente este é o comportamento desejado, porém existem casos em que a \"estrutura de dados\" da tabela se torna uma \"classe\" com funções e métodos que definem o seu comportamento ao longo da aplicação, fazendo com que seja necessário a criação do modelo proxy.\n",
        "\n",
        "A herança do modelo proxy visa criar um proxy para o modelo original. podendo criar, excluir e atualizar instâncias do modelo de proxy e todos os dados serão salvos como se você estivesse usando o modelo original. A principal diferença esta em alterar itens como a ordem do modelo padrão ou o manager padrão no proxy, sem precisar alterar o original, assim como no Design Pattern."
      ]
    },
    {
      "cell_type": "code",
      "metadata": {
        "id": "1BoQuY1_GSmF"
      },
      "source": [
        "from django.db import models\n",
        "\n",
        "class Person(models.Model):\n",
        "    first_name = models.CharField(max_length=30)\n",
        "    last_name = models.CharField(max_length=30)\n",
        "\n",
        "class MyPerson(Person):\n",
        "    class Meta:\n",
        "        proxy = True\n",
        "\n",
        "    def do_something(self):\n",
        "        # ...\n",
        "        pass"
      ],
      "execution_count": null,
      "outputs": []
    },
    {
      "cell_type": "markdown",
      "metadata": {
        "id": "V7wFaQDT44Tw"
      },
      "source": [
        "## 6 - O que faz o método \\_\\_str__() em uma classe?\n",
        "\n",
        "Esse método tem como objetivo sobreescrever a serialização do objeto em questão como uma cadeia de caracteres, muito similar ao método .toString em Java, C# e Javascript. Se o mesmo não for sobrescrito, tem como valor padrão o template \\[{tipo} object]. Cabe ao programador definir esta função com o valor mais adequado de representação daquele objeto."
      ]
    },
    {
      "cell_type": "code",
      "metadata": {
        "id": "Zm9fC8fPd0qH"
      },
      "source": [
        "from django.db import models\n",
        "\n",
        "class Pessoa(models.Model):\n",
        "\tnome = models.CharField(max_length=50)\n",
        "\tsobrenome = models.CharField(max_length=50,\n",
        "\t\t\t\t\t\t\tnull=True)\n",
        " \n",
        " \tdef __str__(self):\n",
        "\t\treturn f\"{self.nome} {self.sobrenome}\""
      ],
      "execution_count": null,
      "outputs": []
    },
    {
      "cell_type": "markdown",
      "metadata": {
        "id": "GhchFQTj5JYy"
      },
      "source": [
        "## 7 - Quais são e para que servem as propriedades adicionais dos tipos de relacionamento/mapeamento?\n",
        "\n",
        "As propriedades adicionais dos tipos de relacionamento/mapeamento indicam a cardinalidade da relação entre os objetos e quais objetos são relacionados (ManyToMany, OneToMany, ForeignKey ...)\n",
        "\n",
        "No caso da ForeignKey, podem também ser definidos se são null (Cardinalidade 0),\n",
        "e metodos on_delete que especificam o comportamento a ser executado caso a entidade referenciada por aquela FK Seja excluida. Existem vários métodos, alguns deles são:\n",
        "\n",
        "models.CASCADE => exclui todas as entidades que referenciam aquela FK,\n",
        "models.PROTECT => levanta um erro do tipo ProtectedError, protegendo a exclusao executando um rollback no controle de transacao.\n",
        "models.SET_NULL => transforma todos os filhos a uma FK nula,\n",
        "models.SET_DEFAULT (...) a uma FK com valor padrao."
      ]
    }
  ]
}