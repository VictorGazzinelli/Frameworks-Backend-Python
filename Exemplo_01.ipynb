{
  "nbformat": 4,
  "nbformat_minor": 0,
  "metadata": {
    "colab": {
      "name": "Exemplo_01.ipynb",
      "provenance": [],
      "collapsed_sections": [],
      "authorship_tag": "ABX9TyO1UVGp8FiMkury+LldazEV",
      "include_colab_link": true
    },
    "kernelspec": {
      "name": "python3",
      "display_name": "Python 3"
    },
    "language_info": {
      "name": "python"
    }
  },
  "cells": [
    {
      "cell_type": "markdown",
      "metadata": {
        "id": "view-in-github",
        "colab_type": "text"
      },
      "source": [
        "<a href=\"https://colab.research.google.com/github/VictorGazzinelli/Frameworks-Backend-Python/blob/main/Exemplo_01.ipynb\" target=\"_parent\"><img src=\"https://colab.research.google.com/assets/colab-badge.svg\" alt=\"Open In Colab\"/></a>"
      ]
    },
    {
      "cell_type": "markdown",
      "metadata": {
        "id": "UZD9FYEkeDs4"
      },
      "source": [
        "## Algoritmo de detecção de números primos\n",
        "\n",
        "O que o statement else faz em um loop (note que o 'else' está identado com o 'for')?\n",
        "\n",
        "  - No caso deste trecho de código, a declaração do 'else' identado ao mesmo nivel da margin que o 'for' interno significa algo do tipo \"encontre um item em um iterável, se nenhum foi encontrado então...\". Python e algumas outras linguagens também do paradigma funcional permitem avaliar a expressão de um iterável (neste caso o 'range') verificando se o mesmo atinge a uma condição ou não.\n",
        "\n",
        "  "
      ]
    },
    {
      "cell_type": "code",
      "metadata": {
        "colab": {
          "base_uri": "https://localhost:8080/"
        },
        "id": "-p9AUhI3dO_W",
        "outputId": "04277260-9f57-4af5-c072-a3e9c3790a94"
      },
      "source": [
        "for n in range(2,10):\n",
        "    for x in range(2,n):\n",
        "        if n % x == 0:\n",
        "            print(n,'equals', x, '*', n//x)\n",
        "            break\n",
        "    else:\n",
        "      print(n, 'is a prime number') "
      ],
      "execution_count": null,
      "outputs": [
        {
          "output_type": "stream",
          "text": [
            "2 is a prime number\n",
            "3 is a prime number\n",
            "4 equals 2 * 2\n",
            "5 is a prime number\n",
            "6 equals 2 * 3\n",
            "7 is a prime number\n",
            "8 equals 2 * 4\n",
            "9 equals 3 * 3\n"
          ],
          "name": "stdout"
        }
      ]
    },
    {
      "cell_type": "markdown",
      "metadata": {
        "id": "nfJW8BMVkXTN"
      },
      "source": [
        "## Lista como pilha"
      ]
    },
    {
      "cell_type": "code",
      "metadata": {
        "colab": {
          "base_uri": "https://localhost:8080/"
        },
        "id": "p7ZhIa3ikjO2",
        "outputId": "38e396e7-b1ec-4fa0-bab1-fd026590e38d"
      },
      "source": [
        "class Stack:\n",
        "  list = []\n",
        "  idx = 0\n",
        "  def __init__(self, size):\n",
        "    if(size <= 0):\n",
        "      raise Exception()\n",
        "    self.size = size\n",
        "  def push(self, item):\n",
        "    if(len(self.list) >= self.size):\n",
        "      raise Exception();\n",
        "    self.list.append(item)\n",
        "    self.idx = self.idx + 1\n",
        "  def pop(self):\n",
        "    if(len(self.list) <= 0):\n",
        "      raise Exception();\n",
        "    item = self.list[self.idx - 1]\n",
        "    self.list.remove(item)\n",
        "    self.idx = self.idx - 1\n",
        "    return item;\n",
        "  def hasItems(self):\n",
        "    return self.idx != 0;\n",
        "\n",
        "\n",
        "lista = list(range(0,5))\n",
        "print('lista: {lista}'.format(lista=lista))\n",
        "\n",
        "pilha = Stack(5)\n",
        "for item in lista:\n",
        "  pilha.push(item)\n",
        "\n",
        "while pilha.hasItems():\n",
        "  print(pilha.pop())"
      ],
      "execution_count": null,
      "outputs": [
        {
          "output_type": "stream",
          "text": [
            "lista: [0, 1, 2, 3, 4]\n",
            "4\n",
            "3\n",
            "2\n",
            "1\n",
            "0\n"
          ],
          "name": "stdout"
        }
      ]
    },
    {
      "cell_type": "markdown",
      "metadata": {
        "id": "SaxQZSCb05W_"
      },
      "source": [
        "## Lista como fila\n",
        "\n"
      ]
    },
    {
      "cell_type": "code",
      "metadata": {
        "colab": {
          "base_uri": "https://localhost:8080/"
        },
        "id": "BDsgma0R04_M",
        "outputId": "e0c29d83-5fde-45e5-804e-ebfffda2ea8f"
      },
      "source": [
        "class Queue:\n",
        "  list = []\n",
        "  idx = 0\n",
        "  def __init__(self, size):\n",
        "    if(size <= 0):\n",
        "      raise Exception()\n",
        "    self.size = size\n",
        "  def add(self, item):\n",
        "    if(len(self.list) >= self.size):\n",
        "      raise Exception();\n",
        "    self.list.append(item)\n",
        "    self.idx = self.idx + 1\n",
        "  def remove(self):\n",
        "    if(len(self.list) <= 0):\n",
        "      raise Exception();\n",
        "    item = self.list[0]\n",
        "    self.list.remove(item)\n",
        "    self.idx = self.idx - 1\n",
        "    return item;\n",
        "  def hasItems(self):\n",
        "    return self.idx != 0;\n",
        "\n",
        "\n",
        "lista = list(range(0,5))\n",
        "print('lista: {lista}'.format(lista=lista))\n",
        "\n",
        "fila = Queue(5)\n",
        "for item in lista:\n",
        "  fila.add(item)\n",
        "\n",
        "while fila.hasItems():\n",
        "  print(fila.remove())"
      ],
      "execution_count": null,
      "outputs": [
        {
          "output_type": "stream",
          "text": [
            "lista: [0, 1, 2, 3, 4]\n",
            "0\n",
            "1\n",
            "2\n",
            "3\n",
            "4\n"
          ],
          "name": "stdout"
        }
      ]
    },
    {
      "cell_type": "markdown",
      "metadata": {
        "id": "6942UzOC2IW4"
      },
      "source": [
        "## Implementacao Set"
      ]
    },
    {
      "cell_type": "code",
      "metadata": {
        "id": "brS18N9Z2Ldp",
        "colab": {
          "base_uri": "https://localhost:8080/"
        },
        "outputId": "9ce19243-dad9-4a19-e1db-1f7a888a11cf"
      },
      "source": [
        "class Set:\n",
        "  list = []\n",
        "  def __init__(self):\n",
        "    self.list = []\n",
        "  def add(self,item):\n",
        "    if(item not in self.list):\n",
        "      self.list.append(item)\n",
        "  def getList(self):\n",
        "    return self.list;\n",
        "\n",
        "mySet = Set();\n",
        "\n",
        "\n",
        "for n in range(2,10):\n",
        "    for x in range(2,n):\n",
        "        if n % x == 0:\n",
        "            mySet.add((n//x))\n",
        "\n",
        "for i in mySet.getList():\n",
        "  print(i)\n",
        "\n",
        "\n",
        "\n",
        "      "
      ],
      "execution_count": null,
      "outputs": [
        {
          "output_type": "stream",
          "text": [
            "2\n",
            "3\n",
            "4\n"
          ],
          "name": "stdout"
        }
      ]
    },
    {
      "cell_type": "markdown",
      "metadata": {
        "id": "SNEOxBgg3aDJ"
      },
      "source": [
        "## Implementacao Tuple"
      ]
    },
    {
      "cell_type": "code",
      "metadata": {
        "colab": {
          "base_uri": "https://localhost:8080/"
        },
        "id": "1UMjW_7E3c1E",
        "outputId": "53aff830-6f84-47f6-c54f-71547fb4475b"
      },
      "source": [
        "class Tuple:\n",
        "  def __init__ (self, item1, item2):\n",
        "    self.item1 = item1\n",
        "    self.item2 = item2\n",
        "  def toString(self):\n",
        "    return '({item1},{item2})'.format(item1 = self.item1, item2 = self.item2)\n",
        "\n",
        "tupla = Tuple('hello', 'world!')\n",
        "print(tupla.toString())"
      ],
      "execution_count": null,
      "outputs": [
        {
          "output_type": "stream",
          "text": [
            "(hello,world!)\n"
          ],
          "name": "stdout"
        }
      ]
    },
    {
      "cell_type": "markdown",
      "metadata": {
        "id": "EInaaCCrW3d0"
      },
      "source": [
        "# Outros"
      ]
    },
    {
      "cell_type": "code",
      "metadata": {
        "colab": {
          "base_uri": "https://localhost:8080/"
        },
        "id": "TAZrvszpW7L-",
        "outputId": "dbef8931-33d6-425e-8730-15b638a3019a"
      },
      "source": [
        "import random as rd\n",
        "numero = rd.randint(0,10)\n",
        "print(numero)\n",
        "numero = rd.choice(range(0,20,2))\n",
        "print(numero)"
      ],
      "execution_count": null,
      "outputs": [
        {
          "output_type": "stream",
          "text": [
            "8\n",
            "4\n"
          ],
          "name": "stdout"
        }
      ]
    },
    {
      "cell_type": "code",
      "metadata": {
        "colab": {
          "base_uri": "https://localhost:8080/"
        },
        "id": "2uFei7OhXtRU",
        "outputId": "36f74de5-0e12-4bb7-bcb3-279238fc5ca0"
      },
      "source": [
        "size = len([1,2,3])\n",
        "print(size)\n",
        "nome = \"Victor\"\n",
        "print(nome)\n",
        "print(nome[3:6])\n",
        "print(nome[:5])\n",
        "print(nome[2:])\n",
        "print(nome.lower())\n",
        "print(nome.strip('i'))\n",
        "print(nome.split('c'))\n",
        "print(nome.find('c'))\n",
        "print(nome.replace('c','i'))"
      ],
      "execution_count": null,
      "outputs": [
        {
          "output_type": "stream",
          "text": [
            "3\n",
            "Victor\n",
            "tor\n",
            "Victo\n",
            "ctor\n",
            "victor\n",
            "Victor\n",
            "['Vi', 'tor']\n",
            "2\n",
            "Viitor\n"
          ],
          "name": "stdout"
        }
      ]
    },
    {
      "cell_type": "code",
      "metadata": {
        "colab": {
          "base_uri": "https://localhost:8080/"
        },
        "id": "6QerK_27ZDau",
        "outputId": "0f2d478b-72ad-46d7-d743-eae7c53ee41e"
      },
      "source": [
        "try:\n",
        "  x = 1 / 0\n",
        "except:\n",
        "  print('Erro')"
      ],
      "execution_count": null,
      "outputs": [
        {
          "output_type": "stream",
          "text": [
            "Erro\n"
          ],
          "name": "stdout"
        }
      ]
    },
    {
      "cell_type": "code",
      "metadata": {
        "colab": {
          "base_uri": "https://localhost:8080/"
        },
        "id": "VM0tZFvlYtVK",
        "outputId": "883a4628-8980-487d-b613-4553f6fbb5da"
      },
      "source": [
        "sujeito = \"Victor\"\n",
        "verbo = \"é\"\n",
        "predicado = \"estudante\"\n",
        "\n",
        "mensagem = f\"{sujeito} {verbo} {predicado}.\"\n",
        "print(mensagem)"
      ],
      "execution_count": null,
      "outputs": [
        {
          "output_type": "stream",
          "text": [
            "Victor é estudante.\n"
          ],
          "name": "stdout"
        }
      ]
    },
    {
      "cell_type": "code",
      "metadata": {
        "colab": {
          "base_uri": "https://localhost:8080/"
        },
        "id": "Iq2hsKHMZVJy",
        "outputId": "faf44808-4dfc-4dd2-fb72-168a042b9be6"
      },
      "source": [
        "from functools import reduce\n",
        "\n",
        "def multiplicaPorDois(x):\n",
        "  return x * 2\n",
        "def soma (a,b):\n",
        "  return a + b\n",
        "\n",
        "multiplosDeDois = [i*2 for i in range(1,11)]\n",
        "print(multiplosDeDois)\n",
        "multiplosDeDois = map(multiplicaPorDois, (range(1,11)))\n",
        "print(list(multiplosDeDois))\n",
        "somaDeZeroANove = reduce(soma,range(0,10))\n",
        "print(somaDeZeroANove)\n",
        "\n",
        "dicionario = dict()\n",
        "dicionario = {\n",
        "    'a': 1,\n",
        "    'b': 2,\n",
        "    'c': 3\n",
        "}\n",
        "print(dicionario)\n",
        "\n",
        "tupleList = []\n",
        "\n",
        "for key in dicionario:\n",
        "  print(f\"[{key}] = {dicionario[key]}\")\n",
        "  tupleList.append((key, dicionario[key]))\n",
        "\n",
        "print(tupleList)  \n"
      ],
      "execution_count": null,
      "outputs": [
        {
          "output_type": "stream",
          "text": [
            "[2, 4, 6, 8, 10, 12, 14, 16, 18, 20]\n",
            "[2, 4, 6, 8, 10, 12, 14, 16, 18, 20]\n",
            "45\n",
            "{'a': 1, 'b': 2, 'c': 3}\n",
            "[a] = 1\n",
            "[b] = 2\n",
            "[c] = 3\n",
            "[('a', 1), ('b', 2), ('c', 3)]\n"
          ],
          "name": "stdout"
        }
      ]
    }
  ]
}